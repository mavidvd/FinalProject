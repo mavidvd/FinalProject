{
 "cells": [
  {
   "cell_type": "code",
   "execution_count": 1,
   "metadata": {},
   "outputs": [],
   "source": [
    "import pandas as pd"
   ]
  },
  {
   "cell_type": "markdown",
   "metadata": {},
   "source": [
    "Finally, we are going to join the data we have on the airports with geolocation data for each airport. This is a necessary step to work accurately with Tableau.\n",
    "\n",
    "For our visualisations, we are not going to use all the features we have or we created, so for that reason, we are going to take the least amount of columns only to avoid having an unnecessarily large file."
   ]
  },
  {
   "cell_type": "code",
   "execution_count": 2,
   "metadata": {},
   "outputs": [],
   "source": [
    "dft = pd.read_csv('Flights19.csv')"
   ]
  },
  {
   "cell_type": "code",
   "execution_count": 3,
   "metadata": {},
   "outputs": [],
   "source": [
    "air = pd.read_excel('Data/Airports.xlsx')"
   ]
  },
  {
   "cell_type": "code",
   "execution_count": 4,
   "metadata": {},
   "outputs": [],
   "source": [
    "dft = dft[['Route', 'Month', 'Carrier', 'From', 'FST', 'FShare', 'FGDPpc', 'To', 'Delay', 'Flights']]"
   ]
  },
  {
   "cell_type": "code",
   "execution_count": 5,
   "metadata": {},
   "outputs": [
    {
     "data": {
      "text/html": [
       "<div>\n",
       "<style scoped>\n",
       "    .dataframe tbody tr th:only-of-type {\n",
       "        vertical-align: middle;\n",
       "    }\n",
       "\n",
       "    .dataframe tbody tr th {\n",
       "        vertical-align: top;\n",
       "    }\n",
       "\n",
       "    .dataframe thead th {\n",
       "        text-align: right;\n",
       "    }\n",
       "</style>\n",
       "<table border=\"1\" class=\"dataframe\">\n",
       "  <thead>\n",
       "    <tr style=\"text-align: right;\">\n",
       "      <th></th>\n",
       "      <th>Airport</th>\n",
       "      <th>Lat</th>\n",
       "      <th>Long</th>\n",
       "    </tr>\n",
       "  </thead>\n",
       "  <tbody>\n",
       "    <tr>\n",
       "      <th>0</th>\n",
       "      <td>ABQ</td>\n",
       "      <td>35.040199</td>\n",
       "      <td>-106.609001</td>\n",
       "    </tr>\n",
       "    <tr>\n",
       "      <th>1</th>\n",
       "      <td>ADW</td>\n",
       "      <td>38.810799</td>\n",
       "      <td>-76.866997</td>\n",
       "    </tr>\n",
       "    <tr>\n",
       "      <th>2</th>\n",
       "      <td>AFW</td>\n",
       "      <td>32.987598</td>\n",
       "      <td>-97.318802</td>\n",
       "    </tr>\n",
       "    <tr>\n",
       "      <th>3</th>\n",
       "      <td>AGS</td>\n",
       "      <td>33.369900</td>\n",
       "      <td>-81.964500</td>\n",
       "    </tr>\n",
       "    <tr>\n",
       "      <th>4</th>\n",
       "      <td>AMA</td>\n",
       "      <td>35.219398</td>\n",
       "      <td>-101.706001</td>\n",
       "    </tr>\n",
       "    <tr>\n",
       "      <th>...</th>\n",
       "      <td>...</td>\n",
       "      <td>...</td>\n",
       "      <td>...</td>\n",
       "    </tr>\n",
       "    <tr>\n",
       "      <th>165</th>\n",
       "      <td>VPS</td>\n",
       "      <td>30.483200</td>\n",
       "      <td>-86.525398</td>\n",
       "    </tr>\n",
       "    <tr>\n",
       "      <th>166</th>\n",
       "      <td>WRB</td>\n",
       "      <td>32.640099</td>\n",
       "      <td>-83.591904</td>\n",
       "    </tr>\n",
       "    <tr>\n",
       "      <th>167</th>\n",
       "      <td>FAI</td>\n",
       "      <td>64.815102</td>\n",
       "      <td>-147.856003</td>\n",
       "    </tr>\n",
       "    <tr>\n",
       "      <th>168</th>\n",
       "      <td>ANC</td>\n",
       "      <td>61.174400</td>\n",
       "      <td>-149.996002</td>\n",
       "    </tr>\n",
       "    <tr>\n",
       "      <th>169</th>\n",
       "      <td>HNL</td>\n",
       "      <td>21.320620</td>\n",
       "      <td>-157.924228</td>\n",
       "    </tr>\n",
       "  </tbody>\n",
       "</table>\n",
       "<p>170 rows × 3 columns</p>\n",
       "</div>"
      ],
      "text/plain": [
       "    Airport        Lat        Long\n",
       "0       ABQ  35.040199 -106.609001\n",
       "1       ADW  38.810799  -76.866997\n",
       "2       AFW  32.987598  -97.318802\n",
       "3       AGS  33.369900  -81.964500\n",
       "4       AMA  35.219398 -101.706001\n",
       "..      ...        ...         ...\n",
       "165     VPS  30.483200  -86.525398\n",
       "166     WRB  32.640099  -83.591904\n",
       "167     FAI  64.815102 -147.856003\n",
       "168     ANC  61.174400 -149.996002\n",
       "169     HNL  21.320620 -157.924228\n",
       "\n",
       "[170 rows x 3 columns]"
      ]
     },
     "execution_count": 5,
     "metadata": {},
     "output_type": "execute_result"
    }
   ],
   "source": [
    "air"
   ]
  },
  {
   "cell_type": "code",
   "execution_count": 6,
   "metadata": {},
   "outputs": [],
   "source": [
    "dft = pd.merge(dft, air, left_on = 'From', right_on = 'Airport')"
   ]
  },
  {
   "cell_type": "code",
   "execution_count": 7,
   "metadata": {},
   "outputs": [],
   "source": [
    "dft = pd.merge(dft, air, left_on = 'To', right_on = 'Airport')"
   ]
  },
  {
   "cell_type": "code",
   "execution_count": 8,
   "metadata": {},
   "outputs": [],
   "source": [
    "dft = dft[['Route', 'Month', 'Carrier', 'From', 'FST', 'FShare', 'FGDPpc', 'To',\n",
    "       'Delay', 'Flights', 'Lat_x', 'Long_x', \n",
    "       'Lat_y', 'Long_y']]"
   ]
  },
  {
   "cell_type": "code",
   "execution_count": 9,
   "metadata": {},
   "outputs": [],
   "source": [
    "dft.columns = [['Route', 'Month', 'Carrier', 'From', 'FST', 'FShare', 'FGDPpc', 'To',\n",
    "       'Delay', 'Flights', 'Lat_x', 'Long_x', 'Lat_y', 'Long_y']]"
   ]
  },
  {
   "cell_type": "code",
   "execution_count": 10,
   "metadata": {},
   "outputs": [],
   "source": [
    "dft.to_csv('TabDF.csv')"
   ]
  }
 ],
 "metadata": {
  "kernelspec": {
   "display_name": "Python 3",
   "language": "python",
   "name": "python3"
  },
  "language_info": {
   "codemirror_mode": {
    "name": "ipython",
    "version": 3
   },
   "file_extension": ".py",
   "mimetype": "text/x-python",
   "name": "python",
   "nbconvert_exporter": "python",
   "pygments_lexer": "ipython3",
   "version": "3.8.3"
  }
 },
 "nbformat": 4,
 "nbformat_minor": 4
}
